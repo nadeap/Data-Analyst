{
 "cells": [
  {
   "cell_type": "code",
   "execution_count": 1,
   "metadata": {},
   "outputs": [],
   "source": [
    "from google_play_scraper import app, Sort, reviews_all\n",
    "from app_store_scraper import AppStore\n",
    "import pandas as pd\n",
    "import numpy as np\n",
    "import json, os, uuid"
   ]
  },
  {
   "cell_type": "code",
   "execution_count": 3,
   "metadata": {},
   "outputs": [],
   "source": [
    "result1 = reviews_all(\n",
    "    'com.pegadaiandigital',\n",
    "    sleep_milliseconds=0,\n",
    "    lang='id',\n",
    "    country='id',\n",
    "    sort = Sort.NEWEST,\n",
    ")"
   ]
  },
  {
   "cell_type": "code",
   "execution_count": 4,
   "metadata": {},
   "outputs": [],
   "source": [
    "df = pd.DataFrame(np.array(result1),columns=['review'])\n",
    "df2 = df.join(pd.DataFrame(df.pop('review').tolist()))\n",
    " \n",
    "df2.drop(columns={'userImage', 'reviewCreatedVersion'},inplace = True)\n",
    "df2.rename(columns= {'score': 'rating','userName': 'user_name', 'reviewId': 'review_id', 'content': 'review_description', 'at': 'review_date', 'replyContent' : 'developer_response', 'repliedAt': 'developer_response_date', 'thumbsUpCount': 'thumbs_up'},inplace = True)\n",
    "df2.insert(loc=0, column='source', value='Google Play')\n",
    "df2.insert(loc=3, column='review_title', value=None)\n",
    "df2['laguage_code'] = 'id'\n",
    "df2['kode_negara'] = 'id'"
   ]
  },
  {
   "cell_type": "code",
   "execution_count": null,
   "metadata": {},
   "outputs": [
    {
     "data": {
      "text/html": [
       "<div>\n",
       "<style scoped>\n",
       "    .dataframe tbody tr th:only-of-type {\n",
       "        vertical-align: middle;\n",
       "    }\n",
       "\n",
       "    .dataframe tbody tr th {\n",
       "        vertical-align: top;\n",
       "    }\n",
       "\n",
       "    .dataframe thead th {\n",
       "        text-align: right;\n",
       "    }\n",
       "</style>\n",
       "<table border=\"1\" class=\"dataframe\">\n",
       "  <thead>\n",
       "    <tr style=\"text-align: right;\">\n",
       "      <th></th>\n",
       "      <th>source</th>\n",
       "      <th>review_id</th>\n",
       "      <th>user_name</th>\n",
       "      <th>review_title</th>\n",
       "      <th>review_description</th>\n",
       "      <th>rating</th>\n",
       "      <th>thumbs_up</th>\n",
       "      <th>review_date</th>\n",
       "      <th>developer_response</th>\n",
       "      <th>developer_response_date</th>\n",
       "      <th>laguage_code</th>\n",
       "      <th>kode_negara</th>\n",
       "    </tr>\n",
       "  </thead>\n",
       "  <tbody>\n",
       "    <tr>\n",
       "      <th>0</th>\n",
       "      <td>Google Play</td>\n",
       "      <td>92d73786-40c3-49b5-beb3-05e027a37bf2</td>\n",
       "      <td>Yang Baikagamanya</td>\n",
       "      <td>None</td>\n",
       "      <td>Segala sesuatu kalau di kelola negara jadi gak...</td>\n",
       "      <td>1</td>\n",
       "      <td>0</td>\n",
       "      <td>2023-03-05 22:55:12</td>\n",
       "      <td>None</td>\n",
       "      <td>NaT</td>\n",
       "      <td>id</td>\n",
       "      <td>id</td>\n",
       "    </tr>\n",
       "    <tr>\n",
       "      <th>1</th>\n",
       "      <td>Google Play</td>\n",
       "      <td>e6aed48f-0e61-4cdc-b299-e8988ea79c88</td>\n",
       "      <td>DYAS KUNCORO</td>\n",
       "      <td>None</td>\n",
       "      <td>Daftar aja susah aplikasi buruk....</td>\n",
       "      <td>1</td>\n",
       "      <td>0</td>\n",
       "      <td>2023-03-05 18:28:16</td>\n",
       "      <td>None</td>\n",
       "      <td>NaT</td>\n",
       "      <td>id</td>\n",
       "      <td>id</td>\n",
       "    </tr>\n",
       "    <tr>\n",
       "      <th>2</th>\n",
       "      <td>Google Play</td>\n",
       "      <td>21f8642e-2cfa-42ad-baa4-80595c19f2f7</td>\n",
       "      <td>bang kun</td>\n",
       "      <td>None</td>\n",
       "      <td>Saya kasih bintang 1 supaya ada banyak perbaik...</td>\n",
       "      <td>1</td>\n",
       "      <td>0</td>\n",
       "      <td>2023-03-04 18:27:49</td>\n",
       "      <td>None</td>\n",
       "      <td>NaT</td>\n",
       "      <td>id</td>\n",
       "      <td>id</td>\n",
       "    </tr>\n",
       "    <tr>\n",
       "      <th>3</th>\n",
       "      <td>Google Play</td>\n",
       "      <td>6d5ec9b8-fe85-4a12-8850-98ff2a531ce0</td>\n",
       "      <td>SUDILISA SUDI</td>\n",
       "      <td>None</td>\n",
       "      <td>Mudah dan cepat</td>\n",
       "      <td>5</td>\n",
       "      <td>0</td>\n",
       "      <td>2023-03-04 18:25:00</td>\n",
       "      <td>None</td>\n",
       "      <td>NaT</td>\n",
       "      <td>id</td>\n",
       "      <td>id</td>\n",
       "    </tr>\n",
       "    <tr>\n",
       "      <th>4</th>\n",
       "      <td>Google Play</td>\n",
       "      <td>b505a335-9a55-4518-8fba-7d56c258b8a7</td>\n",
       "      <td>Andrian Pakpahan</td>\n",
       "      <td>None</td>\n",
       "      <td>Wahh.. ternyata benar banyak yang komplain, ju...</td>\n",
       "      <td>1</td>\n",
       "      <td>0</td>\n",
       "      <td>2023-03-04 14:44:53</td>\n",
       "      <td>None</td>\n",
       "      <td>NaT</td>\n",
       "      <td>id</td>\n",
       "      <td>id</td>\n",
       "    </tr>\n",
       "  </tbody>\n",
       "</table>\n",
       "</div>"
      ],
      "text/plain": [
       "        source                             review_id          user_name  \\\n",
       "0  Google Play  92d73786-40c3-49b5-beb3-05e027a37bf2  Yang Baikagamanya   \n",
       "1  Google Play  e6aed48f-0e61-4cdc-b299-e8988ea79c88       DYAS KUNCORO   \n",
       "2  Google Play  21f8642e-2cfa-42ad-baa4-80595c19f2f7           bang kun   \n",
       "3  Google Play  6d5ec9b8-fe85-4a12-8850-98ff2a531ce0      SUDILISA SUDI   \n",
       "4  Google Play  b505a335-9a55-4518-8fba-7d56c258b8a7   Andrian Pakpahan   \n",
       "\n",
       "  review_title                                 review_description  rating  \\\n",
       "0         None  Segala sesuatu kalau di kelola negara jadi gak...       1   \n",
       "1         None                Daftar aja susah aplikasi buruk....       1   \n",
       "2         None  Saya kasih bintang 1 supaya ada banyak perbaik...       1   \n",
       "3         None                                    Mudah dan cepat       5   \n",
       "4         None  Wahh.. ternyata benar banyak yang komplain, ju...       1   \n",
       "\n",
       "   thumbs_up         review_date developer_response developer_response_date  \\\n",
       "0          0 2023-03-05 22:55:12               None                     NaT   \n",
       "1          0 2023-03-05 18:28:16               None                     NaT   \n",
       "2          0 2023-03-04 18:27:49               None                     NaT   \n",
       "3          0 2023-03-04 18:25:00               None                     NaT   \n",
       "4          0 2023-03-04 14:44:53               None                     NaT   \n",
       "\n",
       "  laguage_code kode_negara  \n",
       "0           id          id  \n",
       "1           id          id  \n",
       "2           id          id  \n",
       "3           id          id  \n",
       "4           id          id  "
      ]
     },
     "execution_count": 6,
     "metadata": {},
     "output_type": "execute_result"
    }
   ],
   "source": [
    "df2.head()"
   ]
  },
  {
   "cell_type": "code",
   "execution_count": 5,
   "metadata": {},
   "outputs": [
    {
     "data": {
      "text/plain": [
       "(27831, 12)"
      ]
     },
     "execution_count": 5,
     "metadata": {},
     "output_type": "execute_result"
    }
   ],
   "source": [
    "df2.shape"
   ]
  },
  {
   "cell_type": "code",
   "execution_count": 6,
   "metadata": {},
   "outputs": [
    {
     "name": "stdout",
     "output_type": "stream",
     "text": [
      "<class 'pandas.core.frame.DataFrame'>\n",
      "RangeIndex: 27831 entries, 0 to 27830\n",
      "Data columns (total 12 columns):\n",
      " #   Column                   Non-Null Count  Dtype         \n",
      "---  ------                   --------------  -----         \n",
      " 0   source                   27831 non-null  object        \n",
      " 1   review_id                27831 non-null  object        \n",
      " 2   user_name                27831 non-null  object        \n",
      " 3   review_title             0 non-null      object        \n",
      " 4   review_description       27831 non-null  object        \n",
      " 5   rating                   27831 non-null  int64         \n",
      " 6   thumbs_up                27831 non-null  int64         \n",
      " 7   review_date              27831 non-null  datetime64[ns]\n",
      " 8   developer_response       9645 non-null   object        \n",
      " 9   developer_response_date  9645 non-null   datetime64[ns]\n",
      " 10  laguage_code             27831 non-null  object        \n",
      " 11  kode_negara              27831 non-null  object        \n",
      "dtypes: datetime64[ns](2), int64(2), object(8)\n",
      "memory usage: 2.5+ MB\n"
     ]
    }
   ],
   "source": [
    "df2.info()"
   ]
  },
  {
   "cell_type": "code",
   "execution_count": 7,
   "metadata": {},
   "outputs": [
    {
     "data": {
      "text/plain": [
       "source                         0\n",
       "review_id                      0\n",
       "user_name                      0\n",
       "review_title               27831\n",
       "review_description             0\n",
       "rating                         0\n",
       "thumbs_up                      0\n",
       "review_date                    0\n",
       "developer_response         18186\n",
       "developer_response_date    18186\n",
       "laguage_code                   0\n",
       "kode_negara                    0\n",
       "dtype: int64"
      ]
     },
     "execution_count": 7,
     "metadata": {},
     "output_type": "execute_result"
    }
   ],
   "source": [
    "df2.isnull().sum()"
   ]
  },
  {
   "cell_type": "code",
   "execution_count": 9,
   "metadata": {},
   "outputs": [],
   "source": [
    "df2.to_csv('pgdplaystore.csv')"
   ]
  },
  {
   "cell_type": "code",
   "execution_count": 8,
   "metadata": {},
   "outputs": [
    {
     "ename": "ValueError",
     "evalue": "invalid literal for int() with base 10: ''",
     "output_type": "error",
     "traceback": [
      "\u001b[1;31m---------------------------------------------------------------------------\u001b[0m",
      "\u001b[1;31mValueError\u001b[0m                                Traceback (most recent call last)",
      "\u001b[1;32mc:\\Users\\HP\\OneDrive - ypt.or.id\\1 FixProject\\Data-Analyst\\google_play.ipynb Cell 9\u001b[0m in \u001b[0;36m1\n\u001b[1;32m----> <a href='vscode-notebook-cell:/c%3A/Users/HP/OneDrive%20-%20ypt.or.id/1%20FixProject/Data-Analyst/google_play.ipynb#W2sZmlsZQ%3D%3D?line=0'>1</a>\u001b[0m a_result \u001b[39m=\u001b[39m AppStore(\u001b[39m'\u001b[39;49m\u001b[39mid\u001b[39;49m\u001b[39m'\u001b[39;49m, \u001b[39m'\u001b[39;49m\u001b[39m'\u001b[39;49m,\u001b[39m'\u001b[39;49m\u001b[39m'\u001b[39;49m)\n\u001b[0;32m      <a href='vscode-notebook-cell:/c%3A/Users/HP/OneDrive%20-%20ypt.or.id/1%20FixProject/Data-Analyst/google_play.ipynb#W2sZmlsZQ%3D%3D?line=1'>2</a>\u001b[0m a_result\u001b[39m.\u001b[39mreview()\n",
      "File \u001b[1;32mc:\\Users\\HP\\AppData\\Local\\Programs\\Python\\Python310\\lib\\site-packages\\app_store_scraper\\app_store.py:23\u001b[0m, in \u001b[0;36mAppStore.__init__\u001b[1;34m(self, country, app_name, app_id, log_format, log_level, log_interval)\u001b[0m\n\u001b[0;32m     14\u001b[0m \u001b[39mdef\u001b[39;00m \u001b[39m__init__\u001b[39m(\n\u001b[0;32m     15\u001b[0m     \u001b[39mself\u001b[39m,\n\u001b[0;32m     16\u001b[0m     country,\n\u001b[1;32m   (...)\u001b[0m\n\u001b[0;32m     21\u001b[0m     log_interval\u001b[39m=\u001b[39m\u001b[39m5\u001b[39m,\n\u001b[0;32m     22\u001b[0m ):\n\u001b[1;32m---> 23\u001b[0m     \u001b[39msuper\u001b[39;49m()\u001b[39m.\u001b[39;49m\u001b[39m__init__\u001b[39;49m(\n\u001b[0;32m     24\u001b[0m         country\u001b[39m=\u001b[39;49mcountry,\n\u001b[0;32m     25\u001b[0m         app_name\u001b[39m=\u001b[39;49mapp_name,\n\u001b[0;32m     26\u001b[0m         app_id\u001b[39m=\u001b[39;49mapp_id,\n\u001b[0;32m     27\u001b[0m         log_format\u001b[39m=\u001b[39;49mlog_format,\n\u001b[0;32m     28\u001b[0m         log_level\u001b[39m=\u001b[39;49mlog_level,\n\u001b[0;32m     29\u001b[0m         log_interval\u001b[39m=\u001b[39;49mlog_interval,\n\u001b[0;32m     30\u001b[0m     )\n\u001b[0;32m     32\u001b[0m     \u001b[39m# override\u001b[39;00m\n\u001b[0;32m     33\u001b[0m     \u001b[39mself\u001b[39m\u001b[39m.\u001b[39m_request_params \u001b[39m=\u001b[39m {\n\u001b[0;32m     34\u001b[0m         \u001b[39m\"\u001b[39m\u001b[39ml\u001b[39m\u001b[39m\"\u001b[39m: \u001b[39m\"\u001b[39m\u001b[39men-GB\u001b[39m\u001b[39m\"\u001b[39m,\n\u001b[0;32m     35\u001b[0m         \u001b[39m\"\u001b[39m\u001b[39moffset\u001b[39m\u001b[39m\"\u001b[39m: \u001b[39mself\u001b[39m\u001b[39m.\u001b[39m_request_offset,\n\u001b[1;32m   (...)\u001b[0m\n\u001b[0;32m     38\u001b[0m         \u001b[39m\"\u001b[39m\u001b[39madditionalPlatforms\u001b[39m\u001b[39m\"\u001b[39m: \u001b[39m\"\u001b[39m\u001b[39mappletv,ipad,iphone,mac\u001b[39m\u001b[39m\"\u001b[39m,\n\u001b[0;32m     39\u001b[0m     }\n",
      "File \u001b[1;32mc:\\Users\\HP\\AppData\\Local\\Programs\\Python\\Python310\\lib\\site-packages\\app_store_scraper\\base.py:48\u001b[0m, in \u001b[0;36mBase.__init__\u001b[1;34m(self, country, app_name, app_id, log_format, log_level, log_interval)\u001b[0m\n\u001b[0;32m     46\u001b[0m     logger\u001b[39m.\u001b[39minfo(\u001b[39m\"\u001b[39m\u001b[39mSearching for app id\u001b[39m\u001b[39m\"\u001b[39m)\n\u001b[0;32m     47\u001b[0m     app_id \u001b[39m=\u001b[39m \u001b[39mself\u001b[39m\u001b[39m.\u001b[39msearch_id()\n\u001b[1;32m---> 48\u001b[0m \u001b[39mself\u001b[39m\u001b[39m.\u001b[39mapp_id \u001b[39m=\u001b[39m \u001b[39mint\u001b[39;49m(app_id)\n\u001b[0;32m     50\u001b[0m \u001b[39mself\u001b[39m\u001b[39m.\u001b[39murl \u001b[39m=\u001b[39m \u001b[39mself\u001b[39m\u001b[39m.\u001b[39m_landing_url()\n\u001b[0;32m     52\u001b[0m \u001b[39mself\u001b[39m\u001b[39m.\u001b[39mreviews \u001b[39m=\u001b[39m \u001b[39mlist\u001b[39m()\n",
      "\u001b[1;31mValueError\u001b[0m: invalid literal for int() with base 10: ''"
     ]
    }
   ],
   "source": [
    "# a_result = AppStore('id', '','')\n",
    "# a_result.review()"
   ]
  }
 ],
 "metadata": {
  "kernelspec": {
   "display_name": "Python 3",
   "language": "python",
   "name": "python3"
  },
  "language_info": {
   "codemirror_mode": {
    "name": "ipython",
    "version": 3
   },
   "file_extension": ".py",
   "mimetype": "text/x-python",
   "name": "python",
   "nbconvert_exporter": "python",
   "pygments_lexer": "ipython3",
   "version": "3.10.8"
  },
  "orig_nbformat": 4
 },
 "nbformat": 4,
 "nbformat_minor": 2
}
